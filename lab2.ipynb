{
 "cells": [
  {
   "cell_type": "markdown",
   "metadata": {
    "colab_type": "text",
    "id": "ep2DPT3H32s9"
   },
   "source": [
    "<a href=\"https://colab.research.google.com/github/wingated/cs474_labs_f2019/blob/master/Alternate_Labs/DL_Lab2.ipynb\" target=\"_parent\"><img src=\"https://colab.research.google.com/assets/colab-badge.svg\" alt=\"Open In Colab\"/></a>"
   ]
  },
  {
   "cell_type": "markdown",
   "metadata": {
    "colab_type": "text",
    "id": "view-in-github"
   },
   "source": [
    "# Lab 2: Intro to PyTorch\n",
    "\n",
    "## Deliverable\n",
    "\n",
    "For this lab, you will submit an IPython notebook via Learning Suite.\n",
    "This lab will be mostly boilerplate code, but you will be required to implement a few extras.\n",
    "\n",
    "**NOTE: you almost certainly will not understand most of what's going on in this lab!\n",
    "That's ok - the point is just to get you going with PyTorch.\n",
    "We'll be working on developing a deeper understanding of every part of this code\n",
    "over the course of the next two weeks.**\n",
    "\n",
    "A major goal of this lab is to help you become conversant in working through PyTorch\n",
    "tutorials and documentation.\n",
    "You should turn to the documentation first, but you may google whatever you need, as there are many great PyTorch tutorials online.\n",
    "\n",
    "This notebook will have four parts:\n",
    "\n",
    "* Part 1: Your notebook should contain the boilerplate code. See below.\n",
    "\n",
    "* Part 2: Your notebook should contain a testing loop.\n",
    "\n",
    "* Part 3: Your notebook should contain a visualization of test/training performance over time.\n",
    "\n",
    "The resulting image could, for example, look like this:\n",
    "![](http://liftothers.org/dokuwiki/lib/exe/fetch.php?cache=&w=900&h=608&tok=3092fe&media=cs501r_f2018:lab2.png)\n",
    "\n",
    "* Part 4: Your notebook should contain the completed microtasks and pass all the asserts.\n",
    "\n",
    "See the assigned readings for pointers to documentation on PyTorch.\n",
    "___\n",
    "\n",
    "### Grading standards:\n",
    "Your notebook will be graded on the following:\n",
    "\n",
    "* 40% Successfully followed lab video and typed in code\n",
    "* 20% Modified code to include a test/train split\n",
    "* 20% Modified code to include a visualization of train/test losses\n",
    "* 10% Tidy and legible figures, including labeled axes where appropriate\n",
    "* 10% Correct solutions to the microtasks\n",
    "___\n",
    "\n",
    "### Description\n",
    "Throughout this class, we will be using PyTorch to implement our deep neural networks. \n",
    "PyTorch is a deep learning framework that handles the low-level details of \n",
    "GPU integration and automatic differentiation.\n",
    "\n",
    "The goal of this lab is to help you become familiar with PyTorch. \n",
    "The four parts of the lab are outlined above.\n",
    "\n",
    "For part 1, you should watch the video below, and type in the code as it is explained to you.\n",
    "\n",
    "A more detailed outline of Part 1 is below.\n",
    "\n",
    "For part 2, you must add a validation (or testing) loop using the \n",
    "FashionMNIST dataset with train=False\n",
    "\n",
    "For part 3, you must plot the loss values.\n",
    "\n",
    "For part 4, you must complete the microtasks and pass all asserts.\n",
    "\n",
    "Optional: Demonstrate overfitting on the training data.\n",
    "\n",
    "The easiest way to do this is to limit the size of your training dataset \n",
    "so that it only returns a single batch (i.e. len(dataloader) == batch_size, \n",
    "and train for multiple epochs. For example,\n",
    "I set my batch size to 42, and augmented my dataloader to produce only 42 \n",
    "unique items by overwriting the len function to return 42. \n",
    "In my training loop, I performed a validation every epoch which basically corresponded \n",
    "to a validation every step.\n",
    "\n",
    "In practice, you will normally compute your validation loss every n steps, \n",
    "rather than at the end of every epoch. This is because some epochs can take hours, \n",
    "or even days and you don’t often want to wait that long to see your results.\n",
    "\n",
    "Testing your algorithm by using a single batch and training until overfitting \n",
    "is a great way of making sure that your model and optimizer are working the way they should!\n",
    "\n",
    "___\n",
    "\n",
    "### Part 0\n",
    "Watch Tutorial Video\n",
    "\n",
    "[https://youtu.be/E76hLX9WCLE](https://youtu.be/E76hLX9WCLE)\n",
    "\n",
    "**TODO:**\n",
    "\n",
    "**DONE:**\n",
    "\n",
    "* Watch video\n",
    "\n",
    "___\n",
    "\n",
    "### Part 1\n",
    "Your notebook should contain the boilerplate code. See below.\n",
    "\n",
    "**TODO:**\n",
    "\n",
    "**DONE:**\n",
    "\n",
    "* Replicate boilerplate from the video\n",
    "\n",
    "___\n",
    "\n",
    "### Part 2\n",
    "Your notebook should contain a testing (validation) loop.\n",
    "\n",
    "**TODO:**\n",
    "\n",
    "**DONE:**\n",
    "\n",
    "* Add a testing (validation) loop"
   ]
  },
  {
   "cell_type": "code",
   "execution_count": 2,
   "metadata": {
    "colab": {},
    "colab_type": "code",
    "id": "QClXc9i7VRyA",
    "pycharm": {
     "is_executing": false
    }
   },
   "outputs": [],
   "source": [
    "# !pip3 install torch \n",
    "# !pip3 install torchvision\n",
    "# !pip3 install tqdm\n",
    "# !pip3 install ipywidgets"
   ]
  },
  {
   "cell_type": "code",
   "execution_count": 1,
   "metadata": {
    "colab": {},
    "colab_type": "code",
    "id": "OU80yuvqVXwk",
    "pycharm": {
     "is_executing": false
    }
   },
   "outputs": [],
   "source": [
    "import torch\n",
    "import torch.nn as nn\n",
    "import torch.nn.functional as F\n",
    "import torch.optim as optim\n",
    "from torch.utils.data import Dataset, DataLoader\n",
    "import numpy as np\n",
    "import matplotlib.pyplot as plt\n",
    "from torchvision import transforms, utils, datasets\n",
    "from tqdm import tqdm\n",
    " \n",
    "assert torch.cuda.is_available()"
   ]
  },
  {
   "cell_type": "code",
   "execution_count": 2,
   "metadata": {},
   "outputs": [],
   "source": [
    "class LinearNetwork(nn.Module):\n",
    "    def __init__(self, dataset) -> None:\n",
    "        super().__init__()\n",
    "        x, y = dataset[0]\n",
    "        c, h, w = x.size()\n",
    "        out_dim = 10\n",
    "\n",
    "        self.net = nn.Sequential(\n",
    "            nn.Linear(c * h * w, 1000), nn.ReLU(), nn.Linear(1000, out_dim)\n",
    "        )\n",
    "\n",
    "    def forward(self, x):\n",
    "        n, c, h, w = x.size()\n",
    "        flattened = x.view(n, c * h * w)\n",
    "        return self.net(flattened)\n",
    "\n",
    "\n",
    "class FashionMNISTProcessedDataset(Dataset):\n",
    "    def __init__(self, root, train) -> None:\n",
    "        super().__init__()\n",
    "        self.data = datasets.FashionMNIST(\n",
    "            # transforms.ToTensor() converts the image to a tensor (???)\n",
    "            root, train=train, transform=transforms.ToTensor(), download=True\n",
    "        )\n",
    "\n",
    "    def __getitem__(self, index):\n",
    "        return self.data[index]\n",
    "    \n",
    "    def __len__(self):\n",
    "        return len(self.data)"
   ]
  },
  {
   "cell_type": "code",
   "execution_count": 3,
   "metadata": {},
   "outputs": [],
   "source": [
    "train_dataset = FashionMNISTProcessedDataset(\"/tmp/fashion\", train=True)\n",
    "val_dataset = FashionMNISTProcessedDataset(\"/tmp/fashion\", train=False)"
   ]
  },
  {
   "cell_type": "code",
   "execution_count": 4,
   "metadata": {},
   "outputs": [],
   "source": [
    "model = LinearNetwork(train_dataset)\n",
    "model = model.cuda()"
   ]
  },
  {
   "cell_type": "code",
   "execution_count": 5,
   "metadata": {},
   "outputs": [],
   "source": [
    "train_loader = DataLoader(train_dataset, batch_size=42, pin_memory=True)\n",
    "validation_loader = DataLoader(val_dataset, batch_size=42, pin_memory=True)"
   ]
  },
  {
   "cell_type": "code",
   "execution_count": 9,
   "metadata": {},
   "outputs": [
    {
     "name": "stderr",
     "output_type": "stream",
     "text": [
      "epoch:99 batch:1428 loss:0.6552 val_loss:0.6730: 100%|██████████| 142900/142900 [17:52<00:00, 133.23it/s]\n"
     ]
    }
   ],
   "source": [
    "# Write the boilerplate code from the video here\n",
    "\n",
    "optimizer = optim.SGD(model.parameters(), lr=1e-4)\n",
    "objective = nn.CrossEntropyLoss()\n",
    "\n",
    "train_losses = []\n",
    "validation_losses = []\n",
    "\n",
    "num_epochs = 100\n",
    "with tqdm(total=len(train_loader) * num_epochs, position=0) as progress_bar:\n",
    "    for epoch in range(num_epochs):\n",
    "        # train\n",
    "        batch = 0\n",
    "        for x, y_truth in train_loader:\n",
    "            # learn\n",
    "            x, y_truth = x.cuda(), y_truth.cuda()\n",
    "\n",
    "            optimizer.zero_grad()\n",
    "\n",
    "            y_hat = model(x)\n",
    "            loss = objective(y_hat, y_truth)\n",
    "\n",
    "            if epoch % 25 == 0 and batch == 0:\n",
    "                train_losses.append(loss)\n",
    "                validation_loss_list = []\n",
    "                for val_x, val_y_truth in validation_loader:\n",
    "                    val_x, val_y_truth = val_x.cuda(), val_y_truth.cuda()\n",
    "                    val_y_hat = model(val_x)\n",
    "                    validation_loss_list.append(objective(val_y_hat, val_y_truth))\n",
    "                validation_losses.append((sum(validation_loss_list) / float(len(validation_loss_list))).item())\n",
    "            \n",
    "            progress_bar.set_description(f\"epoch:{epoch} batch:{batch} loss:{loss.item():.4f} val_loss:{validation_losses[-1]:.4f}\")\n",
    "\n",
    "            loss.backward()\n",
    "            optimizer.step()\n",
    "            batch += 1\n",
    "            progress_bar.update(1)"
   ]
  },
  {
   "cell_type": "markdown",
   "metadata": {
    "colab_type": "text",
    "id": "_IZmHOvirnFn"
   },
   "source": [
    "\n",
    "___\n",
    "\n",
    "### Part 3\n",
    "Your notebook should contain a visualization of test/training\n",
    "performance over time. Use matplotlib.pyplot, and label the graph's axes.\n",
    "\n",
    "**TODO:**\n",
    "\n",
    "**DONE:**\n",
    "* Add a visualization of test/train performance (i.e. loss) over time.\n"
   ]
  },
  {
   "cell_type": "code",
   "execution_count": 12,
   "metadata": {},
   "outputs": [
    {
     "data": {
      "image/png": "[encoded data removed]",
      "text/plain": [
       "<Figure size 640x480 with 1 Axes>"
      ]
     },
     "metadata": {},
     "output_type": "display_data"
    }
   ],
   "source": [
    "fig = plt.figure()\n",
    "ax = fig.add_subplot(111)\n",
    "ax.plot(range(len(validation_losses)), validation_losses, label=\"Validation Loss\")\n",
    "ax.plot(range(len(train_losses)), [it.item() for it in train_losses], label=\"Train Loss\")\n",
    "plt.legend()\n",
    "plt.show()"
   ]
  },
  {
   "cell_type": "markdown",
   "metadata": {
    "colab_type": "text",
    "id": "0wW4QNYG4LE2"
   },
   "source": [
    "\n",
    "___\n",
    "\n",
    "### Part 4\n",
    "Complete the following microtasks to learn some important PyTorch skills.\n",
    "\n",
    "If you do not know how to complete one of the microtasks, use [PyTorch's documentation](https://pytorch.org/docs/stable/index.html)! PyTorch is very well documented, and you will need to learn how to use the documentation, especially in later labs.\n",
    "\n",
    "**TODO:**\n",
    "\n",
    "**DONE:**\n",
    "\n",
    "* Complete microtasks"
   ]
  },
  {
   "cell_type": "markdown",
   "metadata": {},
   "source": [
    "### Computation Graph Microtasks"
   ]
  },
  {
   "cell_type": "code",
   "execution_count": 14,
   "metadata": {},
   "outputs": [
    {
     "name": "stdout",
     "output_type": "stream",
     "text": [
      "tensor([0.7646, 0.8929, 0.3526, 0.5262, 0.0105, 0.6353, 0.9104, 0.3416, 0.2185,\n",
      "        0.9931])\n"
     ]
    }
   ],
   "source": [
    "# To understand how PyTorch organizes the computation graph, let's walk through \n",
    "# a quick example!\n",
    "\n",
    "# 1. First, construct a tensor 'a' that contains 10 random floats. \n",
    "# This will simulate the output layer of a network. Hint: use `torch.rand`.\n",
    "\n",
    "a = torch.rand(10)\n",
    "print(a)\n",
    "assert a.size() == torch.Size([10])"
   ]
  },
  {
   "cell_type": "code",
   "execution_count": 15,
   "metadata": {},
   "outputs": [
    {
     "name": "stdout",
     "output_type": "stream",
     "text": [
      "Parameter containing:\n",
      "tensor([0.7646, 0.8929, 0.3526, 0.5262, 0.0105, 0.6353, 0.9104, 0.3416, 0.2185,\n",
      "        0.9931], requires_grad=True)\n"
     ]
    }
   ],
   "source": [
    "# 2. Now turn 'a' into an `nn.Parameter` so that it be attached to the computation\n",
    "# graph.\n",
    "a = nn.Parameter(a)\n",
    "\n",
    "print(a)\n",
    "assert type(a) == nn.Parameter\n",
    "\n",
    "# Notice that our original tensor 'a' is nested inside of a Parameter object.\n",
    "# The Parameter object knows that it will need to compute gradients at some point.\n",
    "\n",
    "# No need to do anything here, but this assert should pass.\n",
    "assert a.requires_grad == True"
   ]
  },
  {
   "cell_type": "code",
   "execution_count": 16,
   "metadata": {},
   "outputs": [
    {
     "name": "stdout",
     "output_type": "stream",
     "text": [
      "tensor(2.5730, grad_fn=<NllLossBackward0>)\n",
      "tensor([ 0.1165,  0.1324,  0.0772,  0.0918,  0.0548,  0.1024,  0.1348, -0.9237,\n",
      "         0.0675,  0.1464])\n"
     ]
    }
   ],
   "source": [
    "# 3. Let's run 'a' through a loss function. The output of the loss function is\n",
    "# just another tensor, but this tensor remembers what operations produced it.\n",
    "loss_fn = nn.CrossEntropyLoss()\n",
    "loss = loss_fn(a.unsqueeze(0), torch.Tensor([7]).long())\n",
    "print(loss)\n",
    "\n",
    "# Now, instruct the network to do a backward pass, by calling '.backward()' on the \n",
    "# result of the loss function. We should now be able to see the gradients that \n",
    "# were computed for 'a' w.r.t. the loss.\n",
    "loss.backward()\n",
    "\n",
    "assert a.grad is not None\n",
    "print(a.grad)"
   ]
  },
  {
   "cell_type": "code",
   "execution_count": 17,
   "metadata": {},
   "outputs": [
    {
     "name": "stdout",
     "output_type": "stream",
     "text": [
      "Parameter containing:\n",
      "tensor([0.7646, 0.8929, 0.3526, 0.5262, 0.0105, 0.6353, 0.9104, 0.3416, 0.2185,\n",
      "        0.9931], requires_grad=True)\n",
      "tensor([0.7646, 0.8929, 0.3526, 0.5262, 0.0105, 0.6353, 0.9104, 0.3416, 0.2185,\n",
      "        0.9931])\n"
     ]
    }
   ],
   "source": [
    "# 4. If we were to use 'a' in another operation, this might affect the computation graph.\n",
    "# To make sure that you are not adversly affecting the computation graph, call\n",
    "# `.detach()` on 'a' and assign the result to a new variable 'b'.\n",
    "\n",
    "print(a)\n",
    "b = a.detach()\n",
    "print(b)\n",
    "assert a.requires_grad == True\n",
    "assert b.requires_grad == False"
   ]
  }
 ],
 "metadata": {
  "accelerator": "GPU",
  "colab": {
   "collapsed_sections": [],
   "name": "DL_Lab2.ipynb",
   "provenance": []
  },
  "kernelspec": {
   "display_name": "Python 3.10.4 ('venv': venv)",
   "language": "python",
   "name": "python3"
  },
  "language_info": {
   "codemirror_mode": {
    "name": "ipython",
    "version": 3
   },
   "file_extension": ".py",
   "mimetype": "text/x-python",
   "name": "python",
   "nbconvert_exporter": "python",
   "pygments_lexer": "ipython3",
   "version": "3.10.4"
  },
  "pycharm": {
   "stem_cell": {
    "cell_type": "raw",
    "metadata": {
     "collapsed": false
    },
    "source": []
   }
  },
  "vscode": {
   "interpreter": {
    "hash": "3dd692b131ba1899e47c9bc0ca465117f765a1bc791a1baa342e824500e5d372"
   }
  }
 },
 "nbformat": 4,
 "nbformat_minor": 2
}
